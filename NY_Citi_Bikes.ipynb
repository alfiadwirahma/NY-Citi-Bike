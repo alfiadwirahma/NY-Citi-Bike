{
  "nbformat": 4,
  "nbformat_minor": 0,
  "metadata": {
    "colab": {
      "provenance": [],
      "collapsed_sections": []
    },
    "kernelspec": {
      "name": "python3",
      "display_name": "Python 3"
    },
    "language_info": {
      "name": "python"
    }
  },
  "cells": [
    {
      "cell_type": "markdown",
      "source": [
        "# **Table Of Contents**\n",
        "\n",
        "*   Import Data\n",
        "*   Extract And Read The Data\n",
        "*   Get Information About The Data\n",
        "*   Data Preparation:\n",
        "    1. Changing Datatypes\n",
        "    2. Descriptive Statistics\n",
        "    3. Find and eliminate the outliers\n",
        "    4. Drop missing values\n",
        "*   EDA\n",
        "*   Correlation Matrix\n",
        "\n",
        "**Key Questions**\n",
        "1. What are the most popular pick-up locations across the city for Citi Bike rental?\n",
        "2. How does the average trip duration vary across different age groups, and over time?\n",
        "3. Which age group rents the most bikes?\n",
        "4. Do factors like weather and user age impact the average bike trip duration?"
      ],
      "metadata": {
        "id": "Cssx901PDopA"
      }
    },
    {
      "cell_type": "code",
      "execution_count": 1,
      "metadata": {
        "id": "HAvG4FSjhsw8"
      },
      "outputs": [],
      "source": [
        "#import library yg digunakan\n",
        "import pandas as pd\n",
        "import numpy as np\n",
        "import seaborn as sns\n",
        "import matplotlib.pyplot as plt\n",
        "%matplotlib inline\n",
        "sns.set(color_codes=True)"
      ]
    },
    {
      "cell_type": "markdown",
      "source": [
        "**LOAD THE DATASET AND MAKE A COPY OF THE DATASET**"
      ],
      "metadata": {
        "id": "6vgZjkJGtWRH"
      }
    },
    {
      "cell_type": "code",
      "source": [
        "#load csv dataset\n",
        "bike_data = pd.read_csv(\"NYCitiBikes-raw data.csv\")\n",
        "bike_raw1 = bike_data.copy()\n",
        "bike_raw1.head()"
      ],
      "metadata": {
        "id": "ROx6fxH-jQgJ",
        "colab": {
          "base_uri": "https://localhost:8080/",
          "height": 548
        },
        "outputId": "3069f43e-97ec-48f6-ac12-7fcf8167bce1"
      },
      "execution_count": 3,
      "outputs": [
        {
          "output_type": "execute_result",
          "data": {
            "text/plain": [
              "       Start Time       Stop Time  Start Station ID Start Station Name  \\\n",
              "0  28-12-15 18:39  28-12-15 18:47              3220  5 Corners Library   \n",
              "1   5-12-15 19:16  05-12-15 19:23              3186      Grove St PATH   \n",
              "2  01-12-16 18:58   1-12-16 19:02              3183     Exchange Place   \n",
              "3  19-12-15 22:27  19-12-15 22:31              3214   Essex Light Rail   \n",
              "4  01-12-15 22:14  01-12-15 22:17              3214   Essex Light Rail   \n",
              "\n",
              "   End Station ID  End Station Name  Bike ID   User Type  Birth Year  Age  \\\n",
              "0            3203     Hamilton Park    24578  Subscriber        1985   36   \n",
              "1            3214  Essex Light Rail    24479  Subscriber        1941   80   \n",
              "2            3214  Essex Light Rail    26247  Subscriber        1941   80   \n",
              "3            3183    Exchange Place    24599  Subscriber        1941   80   \n",
              "4            3183    Exchange Place    24500  Subscriber        1941   80   \n",
              "\n",
              "  Age Groups  Trip Duration Trip_Duration_in_min  Month  Season  Temperature  \\\n",
              "0      35-44            508                    8      3  Spring            9   \n",
              "1        75+            449                    7     12  Winter           15   \n",
              "2        75+            282                    5     12  Winter           13   \n",
              "3        75+            216                    4     12  Winter           13   \n",
              "4        75+            214                    4     12  Winter           14   \n",
              "\n",
              "    Weekday  \n",
              "0    Monday  \n",
              "1  Saturday  \n",
              "2  Thursday  \n",
              "3  Saturday  \n",
              "4   Tuesday  "
            ],
            "text/html": [
              "\n",
              "  <div id=\"df-df21396e-8b6a-460e-b960-d4c1feb51599\">\n",
              "    <div class=\"colab-df-container\">\n",
              "      <div>\n",
              "<style scoped>\n",
              "    .dataframe tbody tr th:only-of-type {\n",
              "        vertical-align: middle;\n",
              "    }\n",
              "\n",
              "    .dataframe tbody tr th {\n",
              "        vertical-align: top;\n",
              "    }\n",
              "\n",
              "    .dataframe thead th {\n",
              "        text-align: right;\n",
              "    }\n",
              "</style>\n",
              "<table border=\"1\" class=\"dataframe\">\n",
              "  <thead>\n",
              "    <tr style=\"text-align: right;\">\n",
              "      <th></th>\n",
              "      <th>Start Time</th>\n",
              "      <th>Stop Time</th>\n",
              "      <th>Start Station ID</th>\n",
              "      <th>Start Station Name</th>\n",
              "      <th>End Station ID</th>\n",
              "      <th>End Station Name</th>\n",
              "      <th>Bike ID</th>\n",
              "      <th>User Type</th>\n",
              "      <th>Birth Year</th>\n",
              "      <th>Age</th>\n",
              "      <th>Age Groups</th>\n",
              "      <th>Trip Duration</th>\n",
              "      <th>Trip_Duration_in_min</th>\n",
              "      <th>Month</th>\n",
              "      <th>Season</th>\n",
              "      <th>Temperature</th>\n",
              "      <th>Weekday</th>\n",
              "    </tr>\n",
              "  </thead>\n",
              "  <tbody>\n",
              "    <tr>\n",
              "      <th>0</th>\n",
              "      <td>28-12-15 18:39</td>\n",
              "      <td>28-12-15 18:47</td>\n",
              "      <td>3220</td>\n",
              "      <td>5 Corners Library</td>\n",
              "      <td>3203</td>\n",
              "      <td>Hamilton Park</td>\n",
              "      <td>24578</td>\n",
              "      <td>Subscriber</td>\n",
              "      <td>1985</td>\n",
              "      <td>36</td>\n",
              "      <td>35-44</td>\n",
              "      <td>508</td>\n",
              "      <td>8</td>\n",
              "      <td>3</td>\n",
              "      <td>Spring</td>\n",
              "      <td>9</td>\n",
              "      <td>Monday</td>\n",
              "    </tr>\n",
              "    <tr>\n",
              "      <th>1</th>\n",
              "      <td>5-12-15 19:16</td>\n",
              "      <td>05-12-15 19:23</td>\n",
              "      <td>3186</td>\n",
              "      <td>Grove St PATH</td>\n",
              "      <td>3214</td>\n",
              "      <td>Essex Light Rail</td>\n",
              "      <td>24479</td>\n",
              "      <td>Subscriber</td>\n",
              "      <td>1941</td>\n",
              "      <td>80</td>\n",
              "      <td>75+</td>\n",
              "      <td>449</td>\n",
              "      <td>7</td>\n",
              "      <td>12</td>\n",
              "      <td>Winter</td>\n",
              "      <td>15</td>\n",
              "      <td>Saturday</td>\n",
              "    </tr>\n",
              "    <tr>\n",
              "      <th>2</th>\n",
              "      <td>01-12-16 18:58</td>\n",
              "      <td>1-12-16 19:02</td>\n",
              "      <td>3183</td>\n",
              "      <td>Exchange Place</td>\n",
              "      <td>3214</td>\n",
              "      <td>Essex Light Rail</td>\n",
              "      <td>26247</td>\n",
              "      <td>Subscriber</td>\n",
              "      <td>1941</td>\n",
              "      <td>80</td>\n",
              "      <td>75+</td>\n",
              "      <td>282</td>\n",
              "      <td>5</td>\n",
              "      <td>12</td>\n",
              "      <td>Winter</td>\n",
              "      <td>13</td>\n",
              "      <td>Thursday</td>\n",
              "    </tr>\n",
              "    <tr>\n",
              "      <th>3</th>\n",
              "      <td>19-12-15 22:27</td>\n",
              "      <td>19-12-15 22:31</td>\n",
              "      <td>3214</td>\n",
              "      <td>Essex Light Rail</td>\n",
              "      <td>3183</td>\n",
              "      <td>Exchange Place</td>\n",
              "      <td>24599</td>\n",
              "      <td>Subscriber</td>\n",
              "      <td>1941</td>\n",
              "      <td>80</td>\n",
              "      <td>75+</td>\n",
              "      <td>216</td>\n",
              "      <td>4</td>\n",
              "      <td>12</td>\n",
              "      <td>Winter</td>\n",
              "      <td>13</td>\n",
              "      <td>Saturday</td>\n",
              "    </tr>\n",
              "    <tr>\n",
              "      <th>4</th>\n",
              "      <td>01-12-15 22:14</td>\n",
              "      <td>01-12-15 22:17</td>\n",
              "      <td>3214</td>\n",
              "      <td>Essex Light Rail</td>\n",
              "      <td>3183</td>\n",
              "      <td>Exchange Place</td>\n",
              "      <td>24500</td>\n",
              "      <td>Subscriber</td>\n",
              "      <td>1941</td>\n",
              "      <td>80</td>\n",
              "      <td>75+</td>\n",
              "      <td>214</td>\n",
              "      <td>4</td>\n",
              "      <td>12</td>\n",
              "      <td>Winter</td>\n",
              "      <td>14</td>\n",
              "      <td>Tuesday</td>\n",
              "    </tr>\n",
              "  </tbody>\n",
              "</table>\n",
              "</div>\n",
              "      <button class=\"colab-df-convert\" onclick=\"convertToInteractive('df-df21396e-8b6a-460e-b960-d4c1feb51599')\"\n",
              "              title=\"Convert this dataframe to an interactive table.\"\n",
              "              style=\"display:none;\">\n",
              "        \n",
              "  <svg xmlns=\"http://www.w3.org/2000/svg\" height=\"24px\"viewBox=\"0 0 24 24\"\n",
              "       width=\"24px\">\n",
              "    <path d=\"M0 0h24v24H0V0z\" fill=\"none\"/>\n",
              "    <path d=\"M18.56 5.44l.94 2.06.94-2.06 2.06-.94-2.06-.94-.94-2.06-.94 2.06-2.06.94zm-11 1L8.5 8.5l.94-2.06 2.06-.94-2.06-.94L8.5 2.5l-.94 2.06-2.06.94zm10 10l.94 2.06.94-2.06 2.06-.94-2.06-.94-.94-2.06-.94 2.06-2.06.94z\"/><path d=\"M17.41 7.96l-1.37-1.37c-.4-.4-.92-.59-1.43-.59-.52 0-1.04.2-1.43.59L10.3 9.45l-7.72 7.72c-.78.78-.78 2.05 0 2.83L4 21.41c.39.39.9.59 1.41.59.51 0 1.02-.2 1.41-.59l7.78-7.78 2.81-2.81c.8-.78.8-2.07 0-2.86zM5.41 20L4 18.59l7.72-7.72 1.47 1.35L5.41 20z\"/>\n",
              "  </svg>\n",
              "      </button>\n",
              "      \n",
              "  <style>\n",
              "    .colab-df-container {\n",
              "      display:flex;\n",
              "      flex-wrap:wrap;\n",
              "      gap: 12px;\n",
              "    }\n",
              "\n",
              "    .colab-df-convert {\n",
              "      background-color: #E8F0FE;\n",
              "      border: none;\n",
              "      border-radius: 50%;\n",
              "      cursor: pointer;\n",
              "      display: none;\n",
              "      fill: #1967D2;\n",
              "      height: 32px;\n",
              "      padding: 0 0 0 0;\n",
              "      width: 32px;\n",
              "    }\n",
              "\n",
              "    .colab-df-convert:hover {\n",
              "      background-color: #E2EBFA;\n",
              "      box-shadow: 0px 1px 2px rgba(60, 64, 67, 0.3), 0px 1px 3px 1px rgba(60, 64, 67, 0.15);\n",
              "      fill: #174EA6;\n",
              "    }\n",
              "\n",
              "    [theme=dark] .colab-df-convert {\n",
              "      background-color: #3B4455;\n",
              "      fill: #D2E3FC;\n",
              "    }\n",
              "\n",
              "    [theme=dark] .colab-df-convert:hover {\n",
              "      background-color: #434B5C;\n",
              "      box-shadow: 0px 1px 3px 1px rgba(0, 0, 0, 0.15);\n",
              "      filter: drop-shadow(0px 1px 2px rgba(0, 0, 0, 0.3));\n",
              "      fill: #FFFFFF;\n",
              "    }\n",
              "  </style>\n",
              "\n",
              "      <script>\n",
              "        const buttonEl =\n",
              "          document.querySelector('#df-df21396e-8b6a-460e-b960-d4c1feb51599 button.colab-df-convert');\n",
              "        buttonEl.style.display =\n",
              "          google.colab.kernel.accessAllowed ? 'block' : 'none';\n",
              "\n",
              "        async function convertToInteractive(key) {\n",
              "          const element = document.querySelector('#df-df21396e-8b6a-460e-b960-d4c1feb51599');\n",
              "          const dataTable =\n",
              "            await google.colab.kernel.invokeFunction('convertToInteractive',\n",
              "                                                     [key], {});\n",
              "          if (!dataTable) return;\n",
              "\n",
              "          const docLinkHtml = 'Like what you see? Visit the ' +\n",
              "            '<a target=\"_blank\" href=https://colab.research.google.com/notebooks/data_table.ipynb>data table notebook</a>'\n",
              "            + ' to learn more about interactive tables.';\n",
              "          element.innerHTML = '';\n",
              "          dataTable['output_type'] = 'display_data';\n",
              "          await google.colab.output.renderOutput(dataTable, element);\n",
              "          const docLink = document.createElement('div');\n",
              "          docLink.innerHTML = docLinkHtml;\n",
              "          element.appendChild(docLink);\n",
              "        }\n",
              "      </script>\n",
              "    </div>\n",
              "  </div>\n",
              "  "
            ]
          },
          "metadata": {},
          "execution_count": 3
        }
      ]
    },
    {
      "cell_type": "code",
      "source": [
        "bike_raw1.shape"
      ],
      "metadata": {
        "id": "mkHAKJVJof-P",
        "colab": {
          "base_uri": "https://localhost:8080/"
        },
        "outputId": "0255af5d-5b98-4c7c-a211-9e1b43e6ac90"
      },
      "execution_count": 4,
      "outputs": [
        {
          "output_type": "execute_result",
          "data": {
            "text/plain": [
              "(146552, 17)"
            ]
          },
          "metadata": {},
          "execution_count": 4
        }
      ]
    },
    {
      "cell_type": "code",
      "source": [
        "bike_raw1.info()"
      ],
      "metadata": {
        "colab": {
          "base_uri": "https://localhost:8080/"
        },
        "id": "31OmHm2f6r0v",
        "outputId": "03967ca7-302e-4855-be36-28c7697dd453"
      },
      "execution_count": 5,
      "outputs": [
        {
          "output_type": "stream",
          "name": "stdout",
          "text": [
            "<class 'pandas.core.frame.DataFrame'>\n",
            "RangeIndex: 146552 entries, 0 to 146551\n",
            "Data columns (total 17 columns):\n",
            " #   Column                Non-Null Count   Dtype \n",
            "---  ------                --------------   ----- \n",
            " 0   Start Time            146552 non-null  object\n",
            " 1   Stop Time             146552 non-null  object\n",
            " 2   Start Station ID      146552 non-null  int64 \n",
            " 3   Start Station Name    146552 non-null  object\n",
            " 4   End Station ID        146552 non-null  int64 \n",
            " 5   End Station Name      146546 non-null  object\n",
            " 6   Bike ID               146552 non-null  int64 \n",
            " 7   User Type             146552 non-null  object\n",
            " 8   Birth Year            146552 non-null  int64 \n",
            " 9   Age                   146552 non-null  int64 \n",
            " 10  Age Groups            146552 non-null  object\n",
            " 11  Trip Duration         146552 non-null  int64 \n",
            " 12  Trip_Duration_in_min  146552 non-null  object\n",
            " 13  Month                 146552 non-null  int64 \n",
            " 14  Season                146552 non-null  object\n",
            " 15  Temperature           146552 non-null  int64 \n",
            " 16  Weekday               146552 non-null  object\n",
            "dtypes: int64(8), object(9)\n",
            "memory usage: 19.0+ MB\n"
          ]
        }
      ]
    },
    {
      "cell_type": "markdown",
      "source": [
        "Change the data type of **Trip_Duration_in_min** column from **object** data type to **integer (int64)** data type"
      ],
      "metadata": {
        "id": "-BmCPl5D8hwD"
      }
    },
    {
      "cell_type": "code",
      "source": [
        "bike_raw1['Trip_Duration_in_min'] = bike_raw1['Trip_Duration_in_min'].str.replace(',', '').str.strip().astype('int64')\n",
        "bike_raw1.dtypes"
      ],
      "metadata": {
        "colab": {
          "base_uri": "https://localhost:8080/"
        },
        "id": "uHNt0VNhgE0n",
        "outputId": "f9c031f6-5949-47cb-b052-db029e937bd8"
      },
      "execution_count": 6,
      "outputs": [
        {
          "output_type": "execute_result",
          "data": {
            "text/plain": [
              "Start Time              object\n",
              "Stop Time               object\n",
              "Start Station ID         int64\n",
              "Start Station Name      object\n",
              "End Station ID           int64\n",
              "End Station Name        object\n",
              "Bike ID                  int64\n",
              "User Type               object\n",
              "Birth Year               int64\n",
              "Age                      int64\n",
              "Age Groups              object\n",
              "Trip Duration            int64\n",
              "Trip_Duration_in_min     int64\n",
              "Month                    int64\n",
              "Season                  object\n",
              "Temperature              int64\n",
              "Weekday                 object\n",
              "dtype: object"
            ]
          },
          "metadata": {},
          "execution_count": 6
        }
      ]
    },
    {
      "cell_type": "code",
      "source": [
        "bike_raw1.describe().round()"
      ],
      "metadata": {
        "colab": {
          "base_uri": "https://localhost:8080/",
          "height": 300
        },
        "id": "91f9k13vvNR0",
        "outputId": "809429a7-a81e-4e30-f8b6-9ca8b386eae2"
      },
      "execution_count": 7,
      "outputs": [
        {
          "output_type": "execute_result",
          "data": {
            "text/plain": [
              "       Start Station ID  End Station ID   Bike ID  Birth Year       Age  \\\n",
              "count          146552.0        146552.0  146552.0    146552.0  146552.0   \n",
              "mean             3207.0          3203.0   24915.0      1980.0      41.0   \n",
              "std                26.0            63.0     751.0         9.0       9.0   \n",
              "min              3183.0           152.0   14552.0      1900.0      21.0   \n",
              "25%              3186.0          3186.0   24485.0      1975.0      35.0   \n",
              "50%              3202.0          3199.0   24602.0      1982.0      39.0   \n",
              "75%              3211.0          3211.0   24711.0      1986.0      46.0   \n",
              "max              3281.0          3442.0   29296.0      2000.0     121.0   \n",
              "\n",
              "       Trip Duration  Trip_Duration_in_min     Month  Temperature  \n",
              "count       146552.0              146552.0  146552.0     146552.0  \n",
              "mean          1062.0                  18.0       7.0         19.0  \n",
              "std          68786.0                1146.0       3.0          4.0  \n",
              "min             61.0                   1.0       1.0          9.0  \n",
              "25%            247.0                   4.0       4.0         16.0  \n",
              "50%            384.0                   6.0       8.0         19.0  \n",
              "75%            652.0                  11.0      10.0         22.0  \n",
              "max       20260211.0              337670.0      12.0         30.0  "
            ],
            "text/html": [
              "\n",
              "  <div id=\"df-2ffc7f0c-4a31-4e83-9c08-231ecd984716\">\n",
              "    <div class=\"colab-df-container\">\n",
              "      <div>\n",
              "<style scoped>\n",
              "    .dataframe tbody tr th:only-of-type {\n",
              "        vertical-align: middle;\n",
              "    }\n",
              "\n",
              "    .dataframe tbody tr th {\n",
              "        vertical-align: top;\n",
              "    }\n",
              "\n",
              "    .dataframe thead th {\n",
              "        text-align: right;\n",
              "    }\n",
              "</style>\n",
              "<table border=\"1\" class=\"dataframe\">\n",
              "  <thead>\n",
              "    <tr style=\"text-align: right;\">\n",
              "      <th></th>\n",
              "      <th>Start Station ID</th>\n",
              "      <th>End Station ID</th>\n",
              "      <th>Bike ID</th>\n",
              "      <th>Birth Year</th>\n",
              "      <th>Age</th>\n",
              "      <th>Trip Duration</th>\n",
              "      <th>Trip_Duration_in_min</th>\n",
              "      <th>Month</th>\n",
              "      <th>Temperature</th>\n",
              "    </tr>\n",
              "  </thead>\n",
              "  <tbody>\n",
              "    <tr>\n",
              "      <th>count</th>\n",
              "      <td>146552.0</td>\n",
              "      <td>146552.0</td>\n",
              "      <td>146552.0</td>\n",
              "      <td>146552.0</td>\n",
              "      <td>146552.0</td>\n",
              "      <td>146552.0</td>\n",
              "      <td>146552.0</td>\n",
              "      <td>146552.0</td>\n",
              "      <td>146552.0</td>\n",
              "    </tr>\n",
              "    <tr>\n",
              "      <th>mean</th>\n",
              "      <td>3207.0</td>\n",
              "      <td>3203.0</td>\n",
              "      <td>24915.0</td>\n",
              "      <td>1980.0</td>\n",
              "      <td>41.0</td>\n",
              "      <td>1062.0</td>\n",
              "      <td>18.0</td>\n",
              "      <td>7.0</td>\n",
              "      <td>19.0</td>\n",
              "    </tr>\n",
              "    <tr>\n",
              "      <th>std</th>\n",
              "      <td>26.0</td>\n",
              "      <td>63.0</td>\n",
              "      <td>751.0</td>\n",
              "      <td>9.0</td>\n",
              "      <td>9.0</td>\n",
              "      <td>68786.0</td>\n",
              "      <td>1146.0</td>\n",
              "      <td>3.0</td>\n",
              "      <td>4.0</td>\n",
              "    </tr>\n",
              "    <tr>\n",
              "      <th>min</th>\n",
              "      <td>3183.0</td>\n",
              "      <td>152.0</td>\n",
              "      <td>14552.0</td>\n",
              "      <td>1900.0</td>\n",
              "      <td>21.0</td>\n",
              "      <td>61.0</td>\n",
              "      <td>1.0</td>\n",
              "      <td>1.0</td>\n",
              "      <td>9.0</td>\n",
              "    </tr>\n",
              "    <tr>\n",
              "      <th>25%</th>\n",
              "      <td>3186.0</td>\n",
              "      <td>3186.0</td>\n",
              "      <td>24485.0</td>\n",
              "      <td>1975.0</td>\n",
              "      <td>35.0</td>\n",
              "      <td>247.0</td>\n",
              "      <td>4.0</td>\n",
              "      <td>4.0</td>\n",
              "      <td>16.0</td>\n",
              "    </tr>\n",
              "    <tr>\n",
              "      <th>50%</th>\n",
              "      <td>3202.0</td>\n",
              "      <td>3199.0</td>\n",
              "      <td>24602.0</td>\n",
              "      <td>1982.0</td>\n",
              "      <td>39.0</td>\n",
              "      <td>384.0</td>\n",
              "      <td>6.0</td>\n",
              "      <td>8.0</td>\n",
              "      <td>19.0</td>\n",
              "    </tr>\n",
              "    <tr>\n",
              "      <th>75%</th>\n",
              "      <td>3211.0</td>\n",
              "      <td>3211.0</td>\n",
              "      <td>24711.0</td>\n",
              "      <td>1986.0</td>\n",
              "      <td>46.0</td>\n",
              "      <td>652.0</td>\n",
              "      <td>11.0</td>\n",
              "      <td>10.0</td>\n",
              "      <td>22.0</td>\n",
              "    </tr>\n",
              "    <tr>\n",
              "      <th>max</th>\n",
              "      <td>3281.0</td>\n",
              "      <td>3442.0</td>\n",
              "      <td>29296.0</td>\n",
              "      <td>2000.0</td>\n",
              "      <td>121.0</td>\n",
              "      <td>20260211.0</td>\n",
              "      <td>337670.0</td>\n",
              "      <td>12.0</td>\n",
              "      <td>30.0</td>\n",
              "    </tr>\n",
              "  </tbody>\n",
              "</table>\n",
              "</div>\n",
              "      <button class=\"colab-df-convert\" onclick=\"convertToInteractive('df-2ffc7f0c-4a31-4e83-9c08-231ecd984716')\"\n",
              "              title=\"Convert this dataframe to an interactive table.\"\n",
              "              style=\"display:none;\">\n",
              "        \n",
              "  <svg xmlns=\"http://www.w3.org/2000/svg\" height=\"24px\"viewBox=\"0 0 24 24\"\n",
              "       width=\"24px\">\n",
              "    <path d=\"M0 0h24v24H0V0z\" fill=\"none\"/>\n",
              "    <path d=\"M18.56 5.44l.94 2.06.94-2.06 2.06-.94-2.06-.94-.94-2.06-.94 2.06-2.06.94zm-11 1L8.5 8.5l.94-2.06 2.06-.94-2.06-.94L8.5 2.5l-.94 2.06-2.06.94zm10 10l.94 2.06.94-2.06 2.06-.94-2.06-.94-.94-2.06-.94 2.06-2.06.94z\"/><path d=\"M17.41 7.96l-1.37-1.37c-.4-.4-.92-.59-1.43-.59-.52 0-1.04.2-1.43.59L10.3 9.45l-7.72 7.72c-.78.78-.78 2.05 0 2.83L4 21.41c.39.39.9.59 1.41.59.51 0 1.02-.2 1.41-.59l7.78-7.78 2.81-2.81c.8-.78.8-2.07 0-2.86zM5.41 20L4 18.59l7.72-7.72 1.47 1.35L5.41 20z\"/>\n",
              "  </svg>\n",
              "      </button>\n",
              "      \n",
              "  <style>\n",
              "    .colab-df-container {\n",
              "      display:flex;\n",
              "      flex-wrap:wrap;\n",
              "      gap: 12px;\n",
              "    }\n",
              "\n",
              "    .colab-df-convert {\n",
              "      background-color: #E8F0FE;\n",
              "      border: none;\n",
              "      border-radius: 50%;\n",
              "      cursor: pointer;\n",
              "      display: none;\n",
              "      fill: #1967D2;\n",
              "      height: 32px;\n",
              "      padding: 0 0 0 0;\n",
              "      width: 32px;\n",
              "    }\n",
              "\n",
              "    .colab-df-convert:hover {\n",
              "      background-color: #E2EBFA;\n",
              "      box-shadow: 0px 1px 2px rgba(60, 64, 67, 0.3), 0px 1px 3px 1px rgba(60, 64, 67, 0.15);\n",
              "      fill: #174EA6;\n",
              "    }\n",
              "\n",
              "    [theme=dark] .colab-df-convert {\n",
              "      background-color: #3B4455;\n",
              "      fill: #D2E3FC;\n",
              "    }\n",
              "\n",
              "    [theme=dark] .colab-df-convert:hover {\n",
              "      background-color: #434B5C;\n",
              "      box-shadow: 0px 1px 3px 1px rgba(0, 0, 0, 0.15);\n",
              "      filter: drop-shadow(0px 1px 2px rgba(0, 0, 0, 0.3));\n",
              "      fill: #FFFFFF;\n",
              "    }\n",
              "  </style>\n",
              "\n",
              "      <script>\n",
              "        const buttonEl =\n",
              "          document.querySelector('#df-2ffc7f0c-4a31-4e83-9c08-231ecd984716 button.colab-df-convert');\n",
              "        buttonEl.style.display =\n",
              "          google.colab.kernel.accessAllowed ? 'block' : 'none';\n",
              "\n",
              "        async function convertToInteractive(key) {\n",
              "          const element = document.querySelector('#df-2ffc7f0c-4a31-4e83-9c08-231ecd984716');\n",
              "          const dataTable =\n",
              "            await google.colab.kernel.invokeFunction('convertToInteractive',\n",
              "                                                     [key], {});\n",
              "          if (!dataTable) return;\n",
              "\n",
              "          const docLinkHtml = 'Like what you see? Visit the ' +\n",
              "            '<a target=\"_blank\" href=https://colab.research.google.com/notebooks/data_table.ipynb>data table notebook</a>'\n",
              "            + ' to learn more about interactive tables.';\n",
              "          element.innerHTML = '';\n",
              "          dataTable['output_type'] = 'display_data';\n",
              "          await google.colab.output.renderOutput(dataTable, element);\n",
              "          const docLink = document.createElement('div');\n",
              "          docLink.innerHTML = docLinkHtml;\n",
              "          element.appendChild(docLink);\n",
              "        }\n",
              "      </script>\n",
              "    </div>\n",
              "  </div>\n",
              "  "
            ]
          },
          "metadata": {},
          "execution_count": 7
        }
      ]
    },
    {
      "cell_type": "code",
      "source": [
        "sns.boxplot(x=bike_raw1['Trip_Duration_in_min'])"
      ],
      "metadata": {
        "id": "uHEmeDV-5unc",
        "colab": {
          "base_uri": "https://localhost:8080/",
          "height": 302
        },
        "outputId": "2f136065-469c-4d76-81fc-d25a9e19ad64"
      },
      "execution_count": 8,
      "outputs": [
        {
          "output_type": "execute_result",
          "data": {
            "text/plain": [
              "<matplotlib.axes._subplots.AxesSubplot at 0x7f0af8f03a10>"
            ]
          },
          "metadata": {},
          "execution_count": 8
        },
        {
          "output_type": "display_data",
          "data": {
            "text/plain": [
              "<Figure size 432x288 with 1 Axes>"
            ],
            "image/png": "[encoded data removed]"
          },
          "metadata": {}
        }
      ]
    },
    {
      "cell_type": "markdown",
      "source": [
        "It can be seen that in the trip_duration_in_min column has a maximum value 337670 minutes, which means 234 days and also in the Age column there is a maximum age of 121 years for bicycle renters. These can be judged as outliers, so they need to be eliminated"
      ],
      "metadata": {
        "id": "vsJzS8uIv09q"
      }
    },
    {
      "cell_type": "markdown",
      "source": [
        "Eliminate the outliers in the **Trip_Duration_in_min** column use **quantile()** upper limit function "
      ],
      "metadata": {
        "id": "WOgIe9Ny87D1"
      }
    },
    {
      "cell_type": "code",
      "source": [
        "batas_atas_durasi = bike_raw1['Trip_Duration_in_min'].quantile(0.99991)                                                       \n",
        "batas_atas_durasi"
      ],
      "metadata": {
        "colab": {
          "base_uri": "https://localhost:8080/"
        },
        "id": "PEOT5jPO4Adz",
        "outputId": "dc23c9aa-ddbb-4e75-9953-02c61b9e13ed"
      },
      "execution_count": 11,
      "outputs": [
        {
          "output_type": "execute_result",
          "data": {
            "text/plain": [
              "5946.970340000407"
            ]
          },
          "metadata": {},
          "execution_count": 11
        }
      ]
    },
    {
      "cell_type": "code",
      "source": [
        "bike_raw1 = bike_raw1[bike_raw1['Trip_Duration_in_min'] < batas_atas_durasi]\n",
        "bike_raw1.shape"
      ],
      "metadata": {
        "colab": {
          "base_uri": "https://localhost:8080/"
        },
        "id": "g0q2i2lXzs7-",
        "outputId": "5c39f7cd-c86b-4a2a-8dd1-48b84461d5f6"
      },
      "execution_count": 12,
      "outputs": [
        {
          "output_type": "execute_result",
          "data": {
            "text/plain": [
              "(146538, 17)"
            ]
          },
          "metadata": {},
          "execution_count": 12
        }
      ]
    },
    {
      "cell_type": "code",
      "source": [
        "bike_raw1['Trip_Duration_in_min'].max()"
      ],
      "metadata": {
        "colab": {
          "base_uri": "https://localhost:8080/"
        },
        "id": "Tg60-FfH1uih",
        "outputId": "1b5740b9-2738-4b8d-c2d4-a0be4d02c4b4"
      },
      "execution_count": 13,
      "outputs": [
        {
          "output_type": "execute_result",
          "data": {
            "text/plain": [
              "5887"
            ]
          },
          "metadata": {},
          "execution_count": 13
        }
      ]
    },
    {
      "cell_type": "code",
      "source": [
        "sns.boxplot(x=bike_raw1['Trip_Duration_in_min'])"
      ],
      "metadata": {
        "colab": {
          "base_uri": "https://localhost:8080/",
          "height": 302
        },
        "id": "mFpEPMlN51M-",
        "outputId": "7629cd46-9d1b-4b0a-c1e9-aa52f3179a19"
      },
      "execution_count": 14,
      "outputs": [
        {
          "output_type": "execute_result",
          "data": {
            "text/plain": [
              "<matplotlib.axes._subplots.AxesSubplot at 0x7f0af89a3550>"
            ]
          },
          "metadata": {},
          "execution_count": 14
        },
        {
          "output_type": "display_data",
          "data": {
            "text/plain": [
              "<Figure size 432x288 with 1 Axes>"
            ],
            "image/png": "[encoded data removed]"
          },
          "metadata": {}
        }
      ]
    },
    {
      "cell_type": "markdown",
      "source": [
        "Eliminate the outliers in the **Age** column use **quantile()** upper limit function "
      ],
      "metadata": {
        "id": "AJmXXSQS22OB"
      }
    },
    {
      "cell_type": "code",
      "source": [
        "bike_raw1['Age'].max()"
      ],
      "metadata": {
        "colab": {
          "base_uri": "https://localhost:8080/"
        },
        "id": "7WtmRQ5I0igc",
        "outputId": "664d87b4-3383-4634-9d40-d92cf93ee3f4"
      },
      "execution_count": 15,
      "outputs": [
        {
          "output_type": "execute_result",
          "data": {
            "text/plain": [
              "121"
            ]
          },
          "metadata": {},
          "execution_count": 15
        }
      ]
    },
    {
      "cell_type": "code",
      "source": [
        "sns.boxplot(x=bike_raw1['Age'])"
      ],
      "metadata": {
        "colab": {
          "base_uri": "https://localhost:8080/",
          "height": 302
        },
        "id": "Pi3KvBKI1jB1",
        "outputId": "aea920f0-b37f-4f69-efdb-82a1914265ee"
      },
      "execution_count": 16,
      "outputs": [
        {
          "output_type": "execute_result",
          "data": {
            "text/plain": [
              "<matplotlib.axes._subplots.AxesSubplot at 0x7f0af8982850>"
            ]
          },
          "metadata": {},
          "execution_count": 16
        },
        {
          "output_type": "display_data",
          "data": {
            "text/plain": [
              "<Figure size 432x288 with 1 Axes>"
            ],
            "image/png": "[encoded data removed]"
          },
          "metadata": {}
        }
      ]
    },
    {
      "cell_type": "code",
      "source": [
        "batas_atas_usia = bike_raw1['Age'].quantile(0.99994)\n",
        "batas_atas_usia"
      ],
      "metadata": {
        "colab": {
          "base_uri": "https://localhost:8080/"
        },
        "id": "Rn-Tkp0T1x_F",
        "outputId": "4abed2a1-6a2e-4f67-fb86-d6349e3de83d"
      },
      "execution_count": 17,
      "outputs": [
        {
          "output_type": "execute_result",
          "data": {
            "text/plain": [
              "96.44117999990704"
            ]
          },
          "metadata": {},
          "execution_count": 17
        }
      ]
    },
    {
      "cell_type": "code",
      "source": [
        "bike_raw = bike_raw1[bike_raw1['Age'] < batas_atas_usia]\n",
        "bike_raw['Age'].max()\n",
        "bike_raw.shape"
      ],
      "metadata": {
        "colab": {
          "base_uri": "https://localhost:8080/"
        },
        "id": "m7_n9Sjp2lMA",
        "outputId": "50a3497d-ac22-4f03-9b76-531ccfd0d8f1"
      },
      "execution_count": 19,
      "outputs": [
        {
          "output_type": "execute_result",
          "data": {
            "text/plain": [
              "(146529, 17)"
            ]
          },
          "metadata": {},
          "execution_count": 19
        }
      ]
    },
    {
      "cell_type": "code",
      "source": [
        "bike_raw.describe().round()"
      ],
      "metadata": {
        "colab": {
          "base_uri": "https://localhost:8080/",
          "height": 300
        },
        "id": "GFhW41EY-PDl",
        "outputId": "9602e24f-b1cd-445d-ab4c-ab3ed926a22a"
      },
      "execution_count": 20,
      "outputs": [
        {
          "output_type": "execute_result",
          "data": {
            "text/plain": [
              "       Start Station ID  End Station ID   Bike ID  Birth Year       Age  \\\n",
              "count          146529.0        146529.0  146529.0    146529.0  146529.0   \n",
              "mean             3207.0          3203.0   24915.0      1980.0      41.0   \n",
              "std                26.0            63.0     751.0         9.0       9.0   \n",
              "min              3183.0           152.0   14552.0      1931.0      21.0   \n",
              "25%              3186.0          3186.0   24485.0      1975.0      35.0   \n",
              "50%              3202.0          3199.0   24602.0      1982.0      39.0   \n",
              "75%              3211.0          3211.0   24711.0      1986.0      46.0   \n",
              "max              3281.0          3426.0   29296.0      2000.0      90.0   \n",
              "\n",
              "       Trip Duration  Trip_Duration_in_min     Month  Temperature  \n",
              "count       146529.0              146529.0  146529.0     146529.0  \n",
              "mean           735.0                  12.0       7.0         19.0  \n",
              "std           3588.0                  60.0       3.0          4.0  \n",
              "min             61.0                   1.0       1.0          9.0  \n",
              "25%            247.0                   4.0       4.0         16.0  \n",
              "50%            384.0                   6.0       8.0         19.0  \n",
              "75%            652.0                  11.0      10.0         22.0  \n",
              "max         353192.0                5887.0      12.0         30.0  "
            ],
            "text/html": [
              "\n",
              "  <div id=\"df-78b25df3-81dd-4c76-8d39-25d429ce1fc0\">\n",
              "    <div class=\"colab-df-container\">\n",
              "      <div>\n",
              "<style scoped>\n",
              "    .dataframe tbody tr th:only-of-type {\n",
              "        vertical-align: middle;\n",
              "    }\n",
              "\n",
              "    .dataframe tbody tr th {\n",
              "        vertical-align: top;\n",
              "    }\n",
              "\n",
              "    .dataframe thead th {\n",
              "        text-align: right;\n",
              "    }\n",
              "</style>\n",
              "<table border=\"1\" class=\"dataframe\">\n",
              "  <thead>\n",
              "    <tr style=\"text-align: right;\">\n",
              "      <th></th>\n",
              "      <th>Start Station ID</th>\n",
              "      <th>End Station ID</th>\n",
              "      <th>Bike ID</th>\n",
              "      <th>Birth Year</th>\n",
              "      <th>Age</th>\n",
              "      <th>Trip Duration</th>\n",
              "      <th>Trip_Duration_in_min</th>\n",
              "      <th>Month</th>\n",
              "      <th>Temperature</th>\n",
              "    </tr>\n",
              "  </thead>\n",
              "  <tbody>\n",
              "    <tr>\n",
              "      <th>count</th>\n",
              "      <td>146529.0</td>\n",
              "      <td>146529.0</td>\n",
              "      <td>146529.0</td>\n",
              "      <td>146529.0</td>\n",
              "      <td>146529.0</td>\n",
              "      <td>146529.0</td>\n",
              "      <td>146529.0</td>\n",
              "      <td>146529.0</td>\n",
              "      <td>146529.0</td>\n",
              "    </tr>\n",
              "    <tr>\n",
              "      <th>mean</th>\n",
              "      <td>3207.0</td>\n",
              "      <td>3203.0</td>\n",
              "      <td>24915.0</td>\n",
              "      <td>1980.0</td>\n",
              "      <td>41.0</td>\n",
              "      <td>735.0</td>\n",
              "      <td>12.0</td>\n",
              "      <td>7.0</td>\n",
              "      <td>19.0</td>\n",
              "    </tr>\n",
              "    <tr>\n",
              "      <th>std</th>\n",
              "      <td>26.0</td>\n",
              "      <td>63.0</td>\n",
              "      <td>751.0</td>\n",
              "      <td>9.0</td>\n",
              "      <td>9.0</td>\n",
              "      <td>3588.0</td>\n",
              "      <td>60.0</td>\n",
              "      <td>3.0</td>\n",
              "      <td>4.0</td>\n",
              "    </tr>\n",
              "    <tr>\n",
              "      <th>min</th>\n",
              "      <td>3183.0</td>\n",
              "      <td>152.0</td>\n",
              "      <td>14552.0</td>\n",
              "      <td>1931.0</td>\n",
              "      <td>21.0</td>\n",
              "      <td>61.0</td>\n",
              "      <td>1.0</td>\n",
              "      <td>1.0</td>\n",
              "      <td>9.0</td>\n",
              "    </tr>\n",
              "    <tr>\n",
              "      <th>25%</th>\n",
              "      <td>3186.0</td>\n",
              "      <td>3186.0</td>\n",
              "      <td>24485.0</td>\n",
              "      <td>1975.0</td>\n",
              "      <td>35.0</td>\n",
              "      <td>247.0</td>\n",
              "      <td>4.0</td>\n",
              "      <td>4.0</td>\n",
              "      <td>16.0</td>\n",
              "    </tr>\n",
              "    <tr>\n",
              "      <th>50%</th>\n",
              "      <td>3202.0</td>\n",
              "      <td>3199.0</td>\n",
              "      <td>24602.0</td>\n",
              "      <td>1982.0</td>\n",
              "      <td>39.0</td>\n",
              "      <td>384.0</td>\n",
              "      <td>6.0</td>\n",
              "      <td>8.0</td>\n",
              "      <td>19.0</td>\n",
              "    </tr>\n",
              "    <tr>\n",
              "      <th>75%</th>\n",
              "      <td>3211.0</td>\n",
              "      <td>3211.0</td>\n",
              "      <td>24711.0</td>\n",
              "      <td>1986.0</td>\n",
              "      <td>46.0</td>\n",
              "      <td>652.0</td>\n",
              "      <td>11.0</td>\n",
              "      <td>10.0</td>\n",
              "      <td>22.0</td>\n",
              "    </tr>\n",
              "    <tr>\n",
              "      <th>max</th>\n",
              "      <td>3281.0</td>\n",
              "      <td>3426.0</td>\n",
              "      <td>29296.0</td>\n",
              "      <td>2000.0</td>\n",
              "      <td>90.0</td>\n",
              "      <td>353192.0</td>\n",
              "      <td>5887.0</td>\n",
              "      <td>12.0</td>\n",
              "      <td>30.0</td>\n",
              "    </tr>\n",
              "  </tbody>\n",
              "</table>\n",
              "</div>\n",
              "      <button class=\"colab-df-convert\" onclick=\"convertToInteractive('df-78b25df3-81dd-4c76-8d39-25d429ce1fc0')\"\n",
              "              title=\"Convert this dataframe to an interactive table.\"\n",
              "              style=\"display:none;\">\n",
              "        \n",
              "  <svg xmlns=\"http://www.w3.org/2000/svg\" height=\"24px\"viewBox=\"0 0 24 24\"\n",
              "       width=\"24px\">\n",
              "    <path d=\"M0 0h24v24H0V0z\" fill=\"none\"/>\n",
              "    <path d=\"M18.56 5.44l.94 2.06.94-2.06 2.06-.94-2.06-.94-.94-2.06-.94 2.06-2.06.94zm-11 1L8.5 8.5l.94-2.06 2.06-.94-2.06-.94L8.5 2.5l-.94 2.06-2.06.94zm10 10l.94 2.06.94-2.06 2.06-.94-2.06-.94-.94-2.06-.94 2.06-2.06.94z\"/><path d=\"M17.41 7.96l-1.37-1.37c-.4-.4-.92-.59-1.43-.59-.52 0-1.04.2-1.43.59L10.3 9.45l-7.72 7.72c-.78.78-.78 2.05 0 2.83L4 21.41c.39.39.9.59 1.41.59.51 0 1.02-.2 1.41-.59l7.78-7.78 2.81-2.81c.8-.78.8-2.07 0-2.86zM5.41 20L4 18.59l7.72-7.72 1.47 1.35L5.41 20z\"/>\n",
              "  </svg>\n",
              "      </button>\n",
              "      \n",
              "  <style>\n",
              "    .colab-df-container {\n",
              "      display:flex;\n",
              "      flex-wrap:wrap;\n",
              "      gap: 12px;\n",
              "    }\n",
              "\n",
              "    .colab-df-convert {\n",
              "      background-color: #E8F0FE;\n",
              "      border: none;\n",
              "      border-radius: 50%;\n",
              "      cursor: pointer;\n",
              "      display: none;\n",
              "      fill: #1967D2;\n",
              "      height: 32px;\n",
              "      padding: 0 0 0 0;\n",
              "      width: 32px;\n",
              "    }\n",
              "\n",
              "    .colab-df-convert:hover {\n",
              "      background-color: #E2EBFA;\n",
              "      box-shadow: 0px 1px 2px rgba(60, 64, 67, 0.3), 0px 1px 3px 1px rgba(60, 64, 67, 0.15);\n",
              "      fill: #174EA6;\n",
              "    }\n",
              "\n",
              "    [theme=dark] .colab-df-convert {\n",
              "      background-color: #3B4455;\n",
              "      fill: #D2E3FC;\n",
              "    }\n",
              "\n",
              "    [theme=dark] .colab-df-convert:hover {\n",
              "      background-color: #434B5C;\n",
              "      box-shadow: 0px 1px 3px 1px rgba(0, 0, 0, 0.15);\n",
              "      filter: drop-shadow(0px 1px 2px rgba(0, 0, 0, 0.3));\n",
              "      fill: #FFFFFF;\n",
              "    }\n",
              "  </style>\n",
              "\n",
              "      <script>\n",
              "        const buttonEl =\n",
              "          document.querySelector('#df-78b25df3-81dd-4c76-8d39-25d429ce1fc0 button.colab-df-convert');\n",
              "        buttonEl.style.display =\n",
              "          google.colab.kernel.accessAllowed ? 'block' : 'none';\n",
              "\n",
              "        async function convertToInteractive(key) {\n",
              "          const element = document.querySelector('#df-78b25df3-81dd-4c76-8d39-25d429ce1fc0');\n",
              "          const dataTable =\n",
              "            await google.colab.kernel.invokeFunction('convertToInteractive',\n",
              "                                                     [key], {});\n",
              "          if (!dataTable) return;\n",
              "\n",
              "          const docLinkHtml = 'Like what you see? Visit the ' +\n",
              "            '<a target=\"_blank\" href=https://colab.research.google.com/notebooks/data_table.ipynb>data table notebook</a>'\n",
              "            + ' to learn more about interactive tables.';\n",
              "          element.innerHTML = '';\n",
              "          dataTable['output_type'] = 'display_data';\n",
              "          await google.colab.output.renderOutput(dataTable, element);\n",
              "          const docLink = document.createElement('div');\n",
              "          docLink.innerHTML = docLinkHtml;\n",
              "          element.appendChild(docLink);\n",
              "        }\n",
              "      </script>\n",
              "    </div>\n",
              "  </div>\n",
              "  "
            ]
          },
          "metadata": {},
          "execution_count": 20
        }
      ]
    },
    {
      "cell_type": "markdown",
      "source": [
        "Drop the data that has null value"
      ],
      "metadata": {
        "id": "ddzLtJfF8wEK"
      }
    },
    {
      "cell_type": "code",
      "source": [
        "print(bike_raw.isnull().sum())"
      ],
      "metadata": {
        "colab": {
          "base_uri": "https://localhost:8080/"
        },
        "id": "HYA3TApJ4LqY",
        "outputId": "e07d013b-c1b3-4ce5-c93b-b9cf773c4caa"
      },
      "execution_count": 21,
      "outputs": [
        {
          "output_type": "stream",
          "name": "stdout",
          "text": [
            "Start Time              0\n",
            "Stop Time               0\n",
            "Start Station ID        0\n",
            "Start Station Name      0\n",
            "End Station ID          0\n",
            "End Station Name        4\n",
            "Bike ID                 0\n",
            "User Type               0\n",
            "Birth Year              0\n",
            "Age                     0\n",
            "Age Groups              0\n",
            "Trip Duration           0\n",
            "Trip_Duration_in_min    0\n",
            "Month                   0\n",
            "Season                  0\n",
            "Temperature             0\n",
            "Weekday                 0\n",
            "dtype: int64\n"
          ]
        }
      ]
    },
    {
      "cell_type": "code",
      "source": [
        "bike = bike_raw.dropna()\n",
        "bike.count()"
      ],
      "metadata": {
        "colab": {
          "base_uri": "https://localhost:8080/"
        },
        "id": "GWesK38q5Eb9",
        "outputId": "c368e4ca-a36a-455c-9b6f-33b614b45123"
      },
      "execution_count": 22,
      "outputs": [
        {
          "output_type": "execute_result",
          "data": {
            "text/plain": [
              "Start Time              146525\n",
              "Stop Time               146525\n",
              "Start Station ID        146525\n",
              "Start Station Name      146525\n",
              "End Station ID          146525\n",
              "End Station Name        146525\n",
              "Bike ID                 146525\n",
              "User Type               146525\n",
              "Birth Year              146525\n",
              "Age                     146525\n",
              "Age Groups              146525\n",
              "Trip Duration           146525\n",
              "Trip_Duration_in_min    146525\n",
              "Month                   146525\n",
              "Season                  146525\n",
              "Temperature             146525\n",
              "Weekday                 146525\n",
              "dtype: int64"
            ]
          },
          "metadata": {},
          "execution_count": 22
        }
      ]
    },
    {
      "cell_type": "markdown",
      "source": [
        "**TUGAS**"
      ],
      "metadata": {
        "id": "8Nw2Z0EkBrz_"
      }
    },
    {
      "cell_type": "markdown",
      "source": [
        "***Lokasi Pick-Up Station Paling Populer***\n",
        "\n"
      ],
      "metadata": {
        "id": "w1OemlHi70AU"
      }
    },
    {
      "cell_type": "code",
      "source": [
        "bike.value_counts(\"Start Station Name\").nlargest(10).plot(kind='bar',figsize=(8,5),title=\"Most Popular Start Station\")"
      ],
      "metadata": {
        "colab": {
          "base_uri": "https://localhost:8080/",
          "height": 449
        },
        "id": "LCemOBdr84wI",
        "outputId": "665be285-3f82-40eb-e362-637ccfb20131"
      },
      "execution_count": 23,
      "outputs": [
        {
          "output_type": "execute_result",
          "data": {
            "text/plain": [
              "<matplotlib.axes._subplots.AxesSubplot at 0x7f0af6a7e990>"
            ]
          },
          "metadata": {},
          "execution_count": 23
        },
        {
          "output_type": "display_data",
          "data": {
            "text/plain": [
              "<Figure size 576x360 with 1 Axes>"
            ],
            "image/png": "[encoded data removed]"
          },
          "metadata": {}
        }
      ]
    },
    {
      "cell_type": "markdown",
      "source": [
        "5 most popular pick-up locations are Grove St PATH, Exchange Place, Sip Ave, Hamilton Park and Brunswick St"
      ],
      "metadata": {
        "id": "6yKJZqz4B-t3"
      }
    },
    {
      "cell_type": "markdown",
      "source": [
        "***How does the average trip duration vary across different age groups, and over time?***"
      ],
      "metadata": {
        "id": "g_B9rXGcI70x"
      }
    },
    {
      "cell_type": "code",
      "source": [
        "bike_grup1 = bike[['Trip_Duration_in_min', 'Age Groups']].groupby(['Age Groups']).mean().unstack().round()\n",
        "bike_grup1"
      ],
      "metadata": {
        "colab": {
          "base_uri": "https://localhost:8080/"
        },
        "id": "Z8_3jGi79zQR",
        "outputId": "62c75897-409c-423f-bd7a-c79b8193c65b"
      },
      "execution_count": 24,
      "outputs": [
        {
          "output_type": "execute_result",
          "data": {
            "text/plain": [
              "                      Age Groups\n",
              "Trip_Duration_in_min  18-24         14.0\n",
              "                      25-34         10.0\n",
              "                      35-44         14.0\n",
              "                      45-54         10.0\n",
              "                      55-64         12.0\n",
              "                      65-74         12.0\n",
              "                      75+           21.0\n",
              "dtype: float64"
            ]
          },
          "metadata": {},
          "execution_count": 24
        }
      ]
    },
    {
      "cell_type": "code",
      "source": [
        "bike_grup1.plot(kind='bar', figsize=(8,5))\n",
        "plt.xlabel(\"age groups\")\n",
        "plt.show()"
      ],
      "metadata": {
        "colab": {
          "base_uri": "https://localhost:8080/",
          "height": 492
        },
        "id": "HjtnnpfLGFgF",
        "outputId": "049db728-d0c6-43f8-f871-b8ac10a7eb14"
      },
      "execution_count": 25,
      "outputs": [
        {
          "output_type": "display_data",
          "data": {
            "text/plain": [
              "<Figure size 576x360 with 1 Axes>"
            ],
            "image/png": "[encoded data removed]"
          },
          "metadata": {}
        }
      ]
    },
    {
      "cell_type": "markdown",
      "source": [
        "It can be concluded that the age group of 75+ years rents a bicycle with the longest trip duration, with an average of 21 minutes."
      ],
      "metadata": {
        "id": "UCPRqH2QJVE0"
      }
    },
    {
      "cell_type": "markdown",
      "source": [
        "***Which age group rents the most bikes?***"
      ],
      "metadata": {
        "id": "AHiza4bONmUF"
      }
    },
    {
      "cell_type": "code",
      "source": [
        "bike_year = bike.value_counts('Age Groups')\n",
        "bike_year.plot(kind='bar', figsize=(8,5))\n",
        "plt.show()"
      ],
      "metadata": {
        "id": "gIyFCp_H69iR",
        "colab": {
          "base_uri": "https://localhost:8080/",
          "height": 361
        },
        "outputId": "dfa1452a-33cb-4649-b977-6aebb6c37589"
      },
      "execution_count": 26,
      "outputs": [
        {
          "output_type": "display_data",
          "data": {
            "text/plain": [
              "<Figure size 576x360 with 1 Axes>"
            ],
            "image/png": "[encoded data removed]"
          },
          "metadata": {}
        }
      ]
    },
    {
      "cell_type": "markdown",
      "source": [
        "most bicycle renters are in the 35-44 year age group"
      ],
      "metadata": {
        "id": "If0FEMH6PDfQ"
      }
    },
    {
      "cell_type": "markdown",
      "source": [
        "***Do factors like weather and age impact the average bike trip duration?***\n"
      ],
      "metadata": {
        "id": "b_pu7lHR_-jp"
      }
    },
    {
      "cell_type": "code",
      "source": [
        "corr_matrix = round(bike.corr(), 2)\n",
        "corr_matrix"
      ],
      "metadata": {
        "colab": {
          "base_uri": "https://localhost:8080/",
          "height": 332
        },
        "id": "-LaK3B5-_6YD",
        "outputId": "b811d5cc-e102-40ee-9e02-2590e380a788"
      },
      "execution_count": 27,
      "outputs": [
        {
          "output_type": "execute_result",
          "data": {
            "text/plain": [
              "                      Start Station ID  End Station ID  Bike ID  Birth Year  \\\n",
              "Start Station ID                  1.00           -0.03     0.14       -0.00   \n",
              "End Station ID                   -0.03            1.00     0.05        0.00   \n",
              "Bike ID                           0.14            0.05     1.00        0.01   \n",
              "Birth Year                       -0.00            0.00     0.01        1.00   \n",
              "Age                               0.00           -0.00    -0.01       -1.00   \n",
              "Trip Duration                    -0.02           -0.02    -0.01        0.01   \n",
              "Trip_Duration_in_min             -0.02           -0.02    -0.01        0.01   \n",
              "Month                             0.02            0.01     0.04        0.00   \n",
              "Temperature                      -0.06           -0.02    -0.04        0.02   \n",
              "\n",
              "                       Age  Trip Duration  Trip_Duration_in_min  Month  \\\n",
              "Start Station ID      0.00          -0.02                 -0.02   0.02   \n",
              "End Station ID       -0.00          -0.02                 -0.02   0.01   \n",
              "Bike ID              -0.01          -0.01                 -0.01   0.04   \n",
              "Birth Year           -1.00           0.01                  0.01   0.00   \n",
              "Age                   1.00          -0.01                 -0.01  -0.00   \n",
              "Trip Duration        -0.01           1.00                  1.00   0.01   \n",
              "Trip_Duration_in_min -0.01           1.00                  1.00   0.01   \n",
              "Month                -0.00           0.01                  0.01   1.00   \n",
              "Temperature          -0.02           0.03                  0.03   0.34   \n",
              "\n",
              "                      Temperature  \n",
              "Start Station ID            -0.06  \n",
              "End Station ID              -0.02  \n",
              "Bike ID                     -0.04  \n",
              "Birth Year                   0.02  \n",
              "Age                         -0.02  \n",
              "Trip Duration                0.03  \n",
              "Trip_Duration_in_min         0.03  \n",
              "Month                        0.34  \n",
              "Temperature                  1.00  "
            ],
            "text/html": [
              "\n",
              "  <div id=\"df-0ee683fc-7c02-487b-a971-3324e54c71b5\">\n",
              "    <div class=\"colab-df-container\">\n",
              "      <div>\n",
              "<style scoped>\n",
              "    .dataframe tbody tr th:only-of-type {\n",
              "        vertical-align: middle;\n",
              "    }\n",
              "\n",
              "    .dataframe tbody tr th {\n",
              "        vertical-align: top;\n",
              "    }\n",
              "\n",
              "    .dataframe thead th {\n",
              "        text-align: right;\n",
              "    }\n",
              "</style>\n",
              "<table border=\"1\" class=\"dataframe\">\n",
              "  <thead>\n",
              "    <tr style=\"text-align: right;\">\n",
              "      <th></th>\n",
              "      <th>Start Station ID</th>\n",
              "      <th>End Station ID</th>\n",
              "      <th>Bike ID</th>\n",
              "      <th>Birth Year</th>\n",
              "      <th>Age</th>\n",
              "      <th>Trip Duration</th>\n",
              "      <th>Trip_Duration_in_min</th>\n",
              "      <th>Month</th>\n",
              "      <th>Temperature</th>\n",
              "    </tr>\n",
              "  </thead>\n",
              "  <tbody>\n",
              "    <tr>\n",
              "      <th>Start Station ID</th>\n",
              "      <td>1.00</td>\n",
              "      <td>-0.03</td>\n",
              "      <td>0.14</td>\n",
              "      <td>-0.00</td>\n",
              "      <td>0.00</td>\n",
              "      <td>-0.02</td>\n",
              "      <td>-0.02</td>\n",
              "      <td>0.02</td>\n",
              "      <td>-0.06</td>\n",
              "    </tr>\n",
              "    <tr>\n",
              "      <th>End Station ID</th>\n",
              "      <td>-0.03</td>\n",
              "      <td>1.00</td>\n",
              "      <td>0.05</td>\n",
              "      <td>0.00</td>\n",
              "      <td>-0.00</td>\n",
              "      <td>-0.02</td>\n",
              "      <td>-0.02</td>\n",
              "      <td>0.01</td>\n",
              "      <td>-0.02</td>\n",
              "    </tr>\n",
              "    <tr>\n",
              "      <th>Bike ID</th>\n",
              "      <td>0.14</td>\n",
              "      <td>0.05</td>\n",
              "      <td>1.00</td>\n",
              "      <td>0.01</td>\n",
              "      <td>-0.01</td>\n",
              "      <td>-0.01</td>\n",
              "      <td>-0.01</td>\n",
              "      <td>0.04</td>\n",
              "      <td>-0.04</td>\n",
              "    </tr>\n",
              "    <tr>\n",
              "      <th>Birth Year</th>\n",
              "      <td>-0.00</td>\n",
              "      <td>0.00</td>\n",
              "      <td>0.01</td>\n",
              "      <td>1.00</td>\n",
              "      <td>-1.00</td>\n",
              "      <td>0.01</td>\n",
              "      <td>0.01</td>\n",
              "      <td>0.00</td>\n",
              "      <td>0.02</td>\n",
              "    </tr>\n",
              "    <tr>\n",
              "      <th>Age</th>\n",
              "      <td>0.00</td>\n",
              "      <td>-0.00</td>\n",
              "      <td>-0.01</td>\n",
              "      <td>-1.00</td>\n",
              "      <td>1.00</td>\n",
              "      <td>-0.01</td>\n",
              "      <td>-0.01</td>\n",
              "      <td>-0.00</td>\n",
              "      <td>-0.02</td>\n",
              "    </tr>\n",
              "    <tr>\n",
              "      <th>Trip Duration</th>\n",
              "      <td>-0.02</td>\n",
              "      <td>-0.02</td>\n",
              "      <td>-0.01</td>\n",
              "      <td>0.01</td>\n",
              "      <td>-0.01</td>\n",
              "      <td>1.00</td>\n",
              "      <td>1.00</td>\n",
              "      <td>0.01</td>\n",
              "      <td>0.03</td>\n",
              "    </tr>\n",
              "    <tr>\n",
              "      <th>Trip_Duration_in_min</th>\n",
              "      <td>-0.02</td>\n",
              "      <td>-0.02</td>\n",
              "      <td>-0.01</td>\n",
              "      <td>0.01</td>\n",
              "      <td>-0.01</td>\n",
              "      <td>1.00</td>\n",
              "      <td>1.00</td>\n",
              "      <td>0.01</td>\n",
              "      <td>0.03</td>\n",
              "    </tr>\n",
              "    <tr>\n",
              "      <th>Month</th>\n",
              "      <td>0.02</td>\n",
              "      <td>0.01</td>\n",
              "      <td>0.04</td>\n",
              "      <td>0.00</td>\n",
              "      <td>-0.00</td>\n",
              "      <td>0.01</td>\n",
              "      <td>0.01</td>\n",
              "      <td>1.00</td>\n",
              "      <td>0.34</td>\n",
              "    </tr>\n",
              "    <tr>\n",
              "      <th>Temperature</th>\n",
              "      <td>-0.06</td>\n",
              "      <td>-0.02</td>\n",
              "      <td>-0.04</td>\n",
              "      <td>0.02</td>\n",
              "      <td>-0.02</td>\n",
              "      <td>0.03</td>\n",
              "      <td>0.03</td>\n",
              "      <td>0.34</td>\n",
              "      <td>1.00</td>\n",
              "    </tr>\n",
              "  </tbody>\n",
              "</table>\n",
              "</div>\n",
              "      <button class=\"colab-df-convert\" onclick=\"convertToInteractive('df-0ee683fc-7c02-487b-a971-3324e54c71b5')\"\n",
              "              title=\"Convert this dataframe to an interactive table.\"\n",
              "              style=\"display:none;\">\n",
              "        \n",
              "  <svg xmlns=\"http://www.w3.org/2000/svg\" height=\"24px\"viewBox=\"0 0 24 24\"\n",
              "       width=\"24px\">\n",
              "    <path d=\"M0 0h24v24H0V0z\" fill=\"none\"/>\n",
              "    <path d=\"M18.56 5.44l.94 2.06.94-2.06 2.06-.94-2.06-.94-.94-2.06-.94 2.06-2.06.94zm-11 1L8.5 8.5l.94-2.06 2.06-.94-2.06-.94L8.5 2.5l-.94 2.06-2.06.94zm10 10l.94 2.06.94-2.06 2.06-.94-2.06-.94-.94-2.06-.94 2.06-2.06.94z\"/><path d=\"M17.41 7.96l-1.37-1.37c-.4-.4-.92-.59-1.43-.59-.52 0-1.04.2-1.43.59L10.3 9.45l-7.72 7.72c-.78.78-.78 2.05 0 2.83L4 21.41c.39.39.9.59 1.41.59.51 0 1.02-.2 1.41-.59l7.78-7.78 2.81-2.81c.8-.78.8-2.07 0-2.86zM5.41 20L4 18.59l7.72-7.72 1.47 1.35L5.41 20z\"/>\n",
              "  </svg>\n",
              "      </button>\n",
              "      \n",
              "  <style>\n",
              "    .colab-df-container {\n",
              "      display:flex;\n",
              "      flex-wrap:wrap;\n",
              "      gap: 12px;\n",
              "    }\n",
              "\n",
              "    .colab-df-convert {\n",
              "      background-color: #E8F0FE;\n",
              "      border: none;\n",
              "      border-radius: 50%;\n",
              "      cursor: pointer;\n",
              "      display: none;\n",
              "      fill: #1967D2;\n",
              "      height: 32px;\n",
              "      padding: 0 0 0 0;\n",
              "      width: 32px;\n",
              "    }\n",
              "\n",
              "    .colab-df-convert:hover {\n",
              "      background-color: #E2EBFA;\n",
              "      box-shadow: 0px 1px 2px rgba(60, 64, 67, 0.3), 0px 1px 3px 1px rgba(60, 64, 67, 0.15);\n",
              "      fill: #174EA6;\n",
              "    }\n",
              "\n",
              "    [theme=dark] .colab-df-convert {\n",
              "      background-color: #3B4455;\n",
              "      fill: #D2E3FC;\n",
              "    }\n",
              "\n",
              "    [theme=dark] .colab-df-convert:hover {\n",
              "      background-color: #434B5C;\n",
              "      box-shadow: 0px 1px 3px 1px rgba(0, 0, 0, 0.15);\n",
              "      filter: drop-shadow(0px 1px 2px rgba(0, 0, 0, 0.3));\n",
              "      fill: #FFFFFF;\n",
              "    }\n",
              "  </style>\n",
              "\n",
              "      <script>\n",
              "        const buttonEl =\n",
              "          document.querySelector('#df-0ee683fc-7c02-487b-a971-3324e54c71b5 button.colab-df-convert');\n",
              "        buttonEl.style.display =\n",
              "          google.colab.kernel.accessAllowed ? 'block' : 'none';\n",
              "\n",
              "        async function convertToInteractive(key) {\n",
              "          const element = document.querySelector('#df-0ee683fc-7c02-487b-a971-3324e54c71b5');\n",
              "          const dataTable =\n",
              "            await google.colab.kernel.invokeFunction('convertToInteractive',\n",
              "                                                     [key], {});\n",
              "          if (!dataTable) return;\n",
              "\n",
              "          const docLinkHtml = 'Like what you see? Visit the ' +\n",
              "            '<a target=\"_blank\" href=https://colab.research.google.com/notebooks/data_table.ipynb>data table notebook</a>'\n",
              "            + ' to learn more about interactive tables.';\n",
              "          element.innerHTML = '';\n",
              "          dataTable['output_type'] = 'display_data';\n",
              "          await google.colab.output.renderOutput(dataTable, element);\n",
              "          const docLink = document.createElement('div');\n",
              "          docLink.innerHTML = docLinkHtml;\n",
              "          element.appendChild(docLink);\n",
              "        }\n",
              "      </script>\n",
              "    </div>\n",
              "  </div>\n",
              "  "
            ]
          },
          "metadata": {},
          "execution_count": 27
        }
      ]
    },
    {
      "cell_type": "markdown",
      "source": [
        "From the correlation plot above, it is found that there is no feature that directly has a high enough correlation value to Trip Duration in min. However, temperature has a fairly high correlation to Trip Duration in min among other factors, namely 0.3 out of a scale of 1. While Age has no effect on Trip Duration in min."
      ],
      "metadata": {
        "id": "nki_sJAUAwWJ"
      }
    }
  ]
}